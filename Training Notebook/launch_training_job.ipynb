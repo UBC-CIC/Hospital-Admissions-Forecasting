{
 "cells": [
  {
   "cell_type": "code",
   "execution_count": null,
   "id": "d452be1b",
   "metadata": {},
   "outputs": [],
   "source": [
    "%pip install -U sagemaker"
   ]
  },
  {
   "cell_type": "code",
   "execution_count": null,
   "id": "83402a29",
   "metadata": {},
   "outputs": [],
   "source": [
    "import sys  \n",
    "sys.path.insert(1, './code/')\n",
    "import config\n"
   ]
  },
  {
   "cell_type": "code",
   "execution_count": null,
   "id": "e5e282da",
   "metadata": {},
   "outputs": [],
   "source": [
    "import datetime\n",
    "import time\n",
    "import tarfile\n",
    "\n",
    "import boto3\n",
    "import pandas as pd\n",
    "import numpy as np\n",
    "from sagemaker import get_execution_role\n",
    "import sagemaker\n",
    "\n",
    "\n",
    "sm_boto3 = boto3.client(\"sagemaker\")\n",
    "\n",
    "sess = sagemaker.Session()\n",
    "\n",
    "region = sess.boto_session.region_name\n",
    "\n",
    "# We use the Estimator from the SageMaker Python SDK\n",
    "from sagemaker.sklearn.estimator import SKLearn\n",
    "\n",
    "FRAMEWORK_VERSION = \"0.23-1\"\n",
    "env = {\n",
    "    'SAGEMAKER_REQUIREMENTS': 'requirements.txt', # path relative to `source_dir` below.\n",
    "}\n",
    "\n",
    "sklearn_estimator = SKLearn(\n",
    "    entry_point=config.script_name, #Chooses the appropriate training script. Change the model in the config.py file accordingly\n",
    "    role=get_execution_role(),\n",
    "    env=env,\n",
    "    instance_count=1,\n",
    "    source_dir = 'code',\n",
    "#     instance_type=\"ml.g5.8xlarge\",\n",
    "    instance_type=\"ml.c5.18xlarge\", #DEFINES WHAT EC2 INSTANCE THE TRAINING JOB IS RUN ON\n",
    "    framework_version=FRAMEWORK_VERSION,\n",
    "    py_version='py3',\n",
    "    base_job_name=\"xgb-xgboost\",#NAME OF BASE JOB \n",
    "    test_version = 'first-test'\n",
    ")"
   ]
  },
  {
   "cell_type": "code",
   "execution_count": null,
   "id": "06d895ab",
   "metadata": {},
   "outputs": [],
   "source": [
    "bucket = 'halton-ubc'\n",
    "training_path = 'data/'\n",
    "\n",
    "data_location = 's3://{}/{}'.format(bucket, training_path)\n",
    "\n",
    "sklearn_estimator.fit(data_location)"
   ]
  },
  {
   "cell_type": "code",
   "execution_count": null,
   "id": "6ebd3a3f",
   "metadata": {},
   "outputs": [],
   "source": [
    "# After training, you can move just the model.tar.gz to your desired location\n",
    "def move_model_artifact(estimator, desired_s3_path):\n",
    "    import boto3\n",
    "    s3 = boto3.client('s3')\n",
    "    \n",
    "    # Get the source bucket and key from the model data path\n",
    "    source_uri = estimator.model_data\n",
    "    source_bucket = source_uri.split('/')[2]\n",
    "    source_key = '/'.join(source_uri.split('/')[3:])\n",
    "    \n",
    "    # Get the destination bucket and key\n",
    "    dest_bucket = desired_s3_path.split('/')[2]\n",
    "    dest_key = '/'.join(desired_s3_path.split('/')[3:]) + 'model.tar.gz'\n",
    "    \n",
    "    # Copy the model artifact\n",
    "    s3.copy_object(\n",
    "        CopySource={'Bucket': source_bucket, 'Key': source_key},\n",
    "        Bucket=dest_bucket,\n",
    "        Key=dest_key\n",
    "    )\n",
    "    \n",
    "#     # Optionally, delete the original files if needed\n",
    "#     response = s3.list_objects_v2(Bucket=source_bucket, Prefix='/'.join(source_key.split('/')[:-1]))\n",
    "#     for obj in response.get('Contents', []):\n",
    "#         s3.delete_object(Bucket=source_bucket, Key=obj['Key'])\n",
    "\n",
    "\n",
    "# After training, move just the model artifact\n",
    "move_model_artifact(sklearn_estimator, 's3://halton-ubc/model/')"
   ]
  }
 ],
 "metadata": {
  "kernelspec": {
   "display_name": "conda_python3",
   "language": "python",
   "name": "conda_python3"
  },
  "language_info": {
   "codemirror_mode": {
    "name": "ipython",
    "version": 3
   },
   "file_extension": ".py",
   "mimetype": "text/x-python",
   "name": "python",
   "nbconvert_exporter": "python",
   "pygments_lexer": "ipython3",
   "version": "3.10.16"
  }
 },
 "nbformat": 4,
 "nbformat_minor": 5
}
